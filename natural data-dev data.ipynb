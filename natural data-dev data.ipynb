{
 "cells": [
  {
   "cell_type": "code",
   "execution_count": 2,
   "id": "66a55c9a",
   "metadata": {},
   "outputs": [],
   "source": [
    "import pandas as pd"
   ]
  },
  {
   "cell_type": "code",
   "execution_count": 3,
   "id": "dda1e97b",
   "metadata": {},
   "outputs": [],
   "source": [
    "data=pd.read_csv('dev_data.csv')"
   ]
  },
  {
   "cell_type": "code",
   "execution_count": 4,
   "id": "cc28adf4",
   "metadata": {},
   "outputs": [
    {
     "data": {
      "text/html": [
       "<div>\n",
       "<style scoped>\n",
       "    .dataframe tbody tr th:only-of-type {\n",
       "        vertical-align: middle;\n",
       "    }\n",
       "\n",
       "    .dataframe tbody tr th {\n",
       "        vertical-align: top;\n",
       "    }\n",
       "\n",
       "    .dataframe thead th {\n",
       "        text-align: right;\n",
       "    }\n",
       "</style>\n",
       "<table border=\"1\" class=\"dataframe\">\n",
       "  <thead>\n",
       "    <tr style=\"text-align: right;\">\n",
       "      <th></th>\n",
       "      <th>Pid</th>\n",
       "      <th>text data</th>\n",
       "      <th>Class labels</th>\n",
       "    </tr>\n",
       "  </thead>\n",
       "  <tbody>\n",
       "    <tr>\n",
       "      <th>0</th>\n",
       "      <td>dev_pid_1</td>\n",
       "      <td>Im scared : This is it. I lie to myself every ...</td>\n",
       "      <td>moderate</td>\n",
       "    </tr>\n",
       "    <tr>\n",
       "      <th>1</th>\n",
       "      <td>dev_pid_2</td>\n",
       "      <td>New to this but just wanted to vent : I just f...</td>\n",
       "      <td>moderate</td>\n",
       "    </tr>\n",
       "    <tr>\n",
       "      <th>2</th>\n",
       "      <td>dev_pid_3</td>\n",
       "      <td>I’m sad : It’s kinda always been an issue. I w...</td>\n",
       "      <td>moderate</td>\n",
       "    </tr>\n",
       "    <tr>\n",
       "      <th>3</th>\n",
       "      <td>dev_pid_4</td>\n",
       "      <td>Lonely but not alone. : All of my immediately ...</td>\n",
       "      <td>moderate</td>\n",
       "    </tr>\n",
       "    <tr>\n",
       "      <th>4</th>\n",
       "      <td>dev_pid_5</td>\n",
       "      <td>This year has been trash. : I dont know why I’...</td>\n",
       "      <td>moderate</td>\n",
       "    </tr>\n",
       "    <tr>\n",
       "      <th>...</th>\n",
       "      <td>...</td>\n",
       "      <td>...</td>\n",
       "      <td>...</td>\n",
       "    </tr>\n",
       "    <tr>\n",
       "      <th>3240</th>\n",
       "      <td>dev_pid_3241</td>\n",
       "      <td>Feeling lonely. : Hi reddit, I haven’t posted ...</td>\n",
       "      <td>severe</td>\n",
       "    </tr>\n",
       "    <tr>\n",
       "      <th>3241</th>\n",
       "      <td>dev_pid_3242</td>\n",
       "      <td>When would suicide be right? : So I got back f...</td>\n",
       "      <td>severe</td>\n",
       "    </tr>\n",
       "    <tr>\n",
       "      <th>3242</th>\n",
       "      <td>dev_pid_3243</td>\n",
       "      <td>Lowest I’ve ever been ever. : To make a long s...</td>\n",
       "      <td>severe</td>\n",
       "    </tr>\n",
       "    <tr>\n",
       "      <th>3243</th>\n",
       "      <td>dev_pid_3244</td>\n",
       "      <td>Does the Toxoplasma Gondii ruined my life ? (f...</td>\n",
       "      <td>severe</td>\n",
       "    </tr>\n",
       "    <tr>\n",
       "      <th>3244</th>\n",
       "      <td>dev_pid_3245</td>\n",
       "      <td>Getting the correct diagnosis : Currently goin...</td>\n",
       "      <td>severe</td>\n",
       "    </tr>\n",
       "  </tbody>\n",
       "</table>\n",
       "<p>3245 rows × 3 columns</p>\n",
       "</div>"
      ],
      "text/plain": [
       "               Pid                                          text data  \\\n",
       "0        dev_pid_1  Im scared : This is it. I lie to myself every ...   \n",
       "1        dev_pid_2  New to this but just wanted to vent : I just f...   \n",
       "2        dev_pid_3  I’m sad : It’s kinda always been an issue. I w...   \n",
       "3        dev_pid_4  Lonely but not alone. : All of my immediately ...   \n",
       "4        dev_pid_5  This year has been trash. : I dont know why I’...   \n",
       "...            ...                                                ...   \n",
       "3240  dev_pid_3241  Feeling lonely. : Hi reddit, I haven’t posted ...   \n",
       "3241  dev_pid_3242  When would suicide be right? : So I got back f...   \n",
       "3242  dev_pid_3243  Lowest I’ve ever been ever. : To make a long s...   \n",
       "3243  dev_pid_3244  Does the Toxoplasma Gondii ruined my life ? (f...   \n",
       "3244  dev_pid_3245  Getting the correct diagnosis : Currently goin...   \n",
       "\n",
       "     Class labels  \n",
       "0        moderate  \n",
       "1        moderate  \n",
       "2        moderate  \n",
       "3        moderate  \n",
       "4        moderate  \n",
       "...           ...  \n",
       "3240       severe  \n",
       "3241       severe  \n",
       "3242       severe  \n",
       "3243       severe  \n",
       "3244       severe  \n",
       "\n",
       "[3245 rows x 3 columns]"
      ]
     },
     "execution_count": 4,
     "metadata": {},
     "output_type": "execute_result"
    }
   ],
   "source": [
    "data"
   ]
  },
  {
   "cell_type": "code",
   "execution_count": 5,
   "id": "e72402cb",
   "metadata": {},
   "outputs": [
    {
     "data": {
      "text/plain": [
       "moderate          2169\n",
       "not depression     848\n",
       "severe             228\n",
       "Name: Class labels, dtype: int64"
      ]
     },
     "execution_count": 5,
     "metadata": {},
     "output_type": "execute_result"
    }
   ],
   "source": [
    "data['Class labels'].value_counts()"
   ]
  },
  {
   "cell_type": "code",
   "execution_count": 4,
   "id": "f758ca16",
   "metadata": {},
   "outputs": [
    {
     "data": {
      "text/plain": [
       "array(['moderate', 'not depression', 'severe'], dtype=object)"
      ]
     },
     "execution_count": 4,
     "metadata": {},
     "output_type": "execute_result"
    }
   ],
   "source": [
    "data['Class labels'].unique()"
   ]
  },
  {
   "cell_type": "code",
   "execution_count": 6,
   "id": "93ea4616",
   "metadata": {},
   "outputs": [],
   "source": [
    "target=data['Class labels'].unique()"
   ]
  },
  {
   "cell_type": "code",
   "execution_count": 7,
   "id": "64fb4e20",
   "metadata": {},
   "outputs": [
    {
     "data": {
      "text/plain": [
       "array(['moderate', 'not depression', 'severe'], dtype=object)"
      ]
     },
     "execution_count": 7,
     "metadata": {},
     "output_type": "execute_result"
    }
   ],
   "source": [
    "target"
   ]
  },
  {
   "cell_type": "code",
   "execution_count": 8,
   "id": "a7eaa947",
   "metadata": {},
   "outputs": [
    {
     "data": {
      "text/html": [
       "<div>\n",
       "<style scoped>\n",
       "    .dataframe tbody tr th:only-of-type {\n",
       "        vertical-align: middle;\n",
       "    }\n",
       "\n",
       "    .dataframe tbody tr th {\n",
       "        vertical-align: top;\n",
       "    }\n",
       "\n",
       "    .dataframe thead th {\n",
       "        text-align: right;\n",
       "    }\n",
       "</style>\n",
       "<table border=\"1\" class=\"dataframe\">\n",
       "  <thead>\n",
       "    <tr style=\"text-align: right;\">\n",
       "      <th></th>\n",
       "      <th>Pid</th>\n",
       "      <th>text data</th>\n",
       "      <th>Class labels</th>\n",
       "    </tr>\n",
       "  </thead>\n",
       "  <tbody>\n",
       "    <tr>\n",
       "      <th>0</th>\n",
       "      <td>dev_pid_1</td>\n",
       "      <td>Im scared : This is it. I lie to myself every ...</td>\n",
       "      <td>moderate</td>\n",
       "    </tr>\n",
       "    <tr>\n",
       "      <th>1</th>\n",
       "      <td>dev_pid_2</td>\n",
       "      <td>New to this but just wanted to vent : I just f...</td>\n",
       "      <td>moderate</td>\n",
       "    </tr>\n",
       "    <tr>\n",
       "      <th>2</th>\n",
       "      <td>dev_pid_3</td>\n",
       "      <td>I’m sad : It’s kinda always been an issue. I w...</td>\n",
       "      <td>moderate</td>\n",
       "    </tr>\n",
       "    <tr>\n",
       "      <th>3</th>\n",
       "      <td>dev_pid_4</td>\n",
       "      <td>Lonely but not alone. : All of my immediately ...</td>\n",
       "      <td>moderate</td>\n",
       "    </tr>\n",
       "    <tr>\n",
       "      <th>4</th>\n",
       "      <td>dev_pid_5</td>\n",
       "      <td>This year has been trash. : I dont know why I’...</td>\n",
       "      <td>moderate</td>\n",
       "    </tr>\n",
       "  </tbody>\n",
       "</table>\n",
       "</div>"
      ],
      "text/plain": [
       "         Pid                                          text data Class labels\n",
       "0  dev_pid_1  Im scared : This is it. I lie to myself every ...     moderate\n",
       "1  dev_pid_2  New to this but just wanted to vent : I just f...     moderate\n",
       "2  dev_pid_3  I’m sad : It’s kinda always been an issue. I w...     moderate\n",
       "3  dev_pid_4  Lonely but not alone. : All of my immediately ...     moderate\n",
       "4  dev_pid_5  This year has been trash. : I dont know why I’...     moderate"
      ]
     },
     "execution_count": 8,
     "metadata": {},
     "output_type": "execute_result"
    }
   ],
   "source": [
    "data.head()"
   ]
  },
  {
   "cell_type": "code",
   "execution_count": 13,
   "id": "4695444a",
   "metadata": {},
   "outputs": [
    {
     "data": {
      "image/png": "[encoded data removed]",
      "text/plain": [
       "<Figure size 640x480 with 1 Axes>"
      ]
     },
     "metadata": {},
     "output_type": "display_data"
    }
   ],
   "source": [
    "import matplotlib.pyplot as plt\n",
    "data.groupby('Class labels')['Class labels'].value_counts().plot(kind=\"bar\", color=[\"pink\", \"orange\", \"red\"])\n",
    "plt.xlabel(\"Category of data\")\n",
    "plt.title(\"Visulaize numbers of Category of data\")\n",
    "plt.show()"
   ]
  },
  {
   "cell_type": "code",
   "execution_count": 18,
   "id": "b7a9f80e",
   "metadata": {},
   "outputs": [
    {
     "data": {
      "image/png": "[encoded data removed]",
      "text/plain": [
       "<Figure size 500x500 with 1 Axes>"
      ]
     },
     "metadata": {},
     "output_type": "display_data"
    }
   ],
   "source": [
    "fig = plt.figure(figsize = (5,5))\n",
    "colors = [\"lightgreen\"]\n",
    "moderate = data[data['Class labels'] == 'moderate' ]\n",
    "no_depression = data[data['Class labels'] == 'not depression' ]\n",
    "serve = data[data['Class labels'] == 'serve']\n",
    "count = [moderate['Class labels'].count(), no_depression['Class labels'].count(), serve['Class labels'].count()]\n",
    "pie = plt.pie(count, labels = ['Moderate', 'Not depression', 'Serve'],\n",
    "              autopct = \"%1.1f%%\",\n",
    "              shadow = True,\n",
    "              colors = colors,\n",
    "              startangle = 45,\n",
    "              explode = (0.05, 0.05, 0.05))"
   ]
  },
  {
   "cell_type": "code",
   "execution_count": null,
   "id": "65632c32",
   "metadata": {},
   "outputs": [],
   "source": []
  }
 ],
 "metadata": {
  "kernelspec": {
   "display_name": "Python 3 (ipykernel)",
   "language": "python",
   "name": "python3"
  },
  "language_info": {
   "codemirror_mode": {
    "name": "ipython",
    "version": 3
   },
   "file_extension": ".py",
   "mimetype": "text/x-python",
   "name": "python",
   "nbconvert_exporter": "python",
   "pygments_lexer": "ipython3",
   "version": "3.9.12"
  }
 },
 "nbformat": 4,
 "nbformat_minor": 5
}
